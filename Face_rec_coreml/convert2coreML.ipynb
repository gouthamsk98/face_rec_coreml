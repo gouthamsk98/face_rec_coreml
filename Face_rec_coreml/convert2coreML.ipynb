{
 "cells": [
  {
   "cell_type": "code",
   "execution_count": 1,
   "metadata": {},
   "outputs": [
    {
     "name": "stdout",
     "output_type": "stream",
     "text": [
      "Collecting coremltools\n",
      "  Downloading coremltools-7.2-cp311-none-macosx_11_0_arm64.whl.metadata (2.4 kB)\n",
      "Requirement already satisfied: numpy>=1.14.5 in /Users/biboxdev/miniconda3/lib/python3.11/site-packages (from coremltools) (1.26.4)\n",
      "Collecting protobuf<=4.0.0,>=3.1.0 (from coremltools)\n",
      "  Downloading protobuf-3.20.3-py2.py3-none-any.whl.metadata (720 bytes)\n",
      "Requirement already satisfied: sympy in /Users/biboxdev/miniconda3/lib/python3.11/site-packages (from coremltools) (1.12)\n",
      "Requirement already satisfied: tqdm in /Users/biboxdev/miniconda3/lib/python3.11/site-packages (from coremltools) (4.65.0)\n",
      "Requirement already satisfied: packaging in /Users/biboxdev/miniconda3/lib/python3.11/site-packages (from coremltools) (23.1)\n",
      "Requirement already satisfied: attrs>=21.3.0 in /Users/biboxdev/miniconda3/lib/python3.11/site-packages (from coremltools) (23.2.0)\n",
      "Collecting cattrs (from coremltools)\n",
      "  Downloading cattrs-23.2.3-py3-none-any.whl.metadata (10 kB)\n",
      "Collecting pyaml (from coremltools)\n",
      "  Downloading pyaml-24.4.0-py3-none-any.whl.metadata (11 kB)\n",
      "Requirement already satisfied: PyYAML in /Users/biboxdev/miniconda3/lib/python3.11/site-packages (from pyaml->coremltools) (6.0.1)\n",
      "Requirement already satisfied: mpmath>=0.19 in /Users/biboxdev/miniconda3/lib/python3.11/site-packages (from sympy->coremltools) (1.3.0)\n",
      "Downloading coremltools-7.2-cp311-none-macosx_11_0_arm64.whl (2.3 MB)\n",
      "\u001b[2K   \u001b[90m━━━━━━━━━━━━━━━━━━━━━━━━━━━━━━━━━━━━━━━━\u001b[0m \u001b[32m2.3/2.3 MB\u001b[0m \u001b[31m21.6 MB/s\u001b[0m eta \u001b[36m0:00:00\u001b[0ma \u001b[36m0:00:01\u001b[0m\n",
      "\u001b[?25hDownloading protobuf-3.20.3-py2.py3-none-any.whl (162 kB)\n",
      "\u001b[2K   \u001b[90m━━━━━━━━━━━━━━━━━━━━━━━━━━━━━━━━━━━━━━━━\u001b[0m \u001b[32m162.1/162.1 kB\u001b[0m \u001b[31m18.2 MB/s\u001b[0m eta \u001b[36m0:00:00\u001b[0m\n",
      "\u001b[?25hDownloading cattrs-23.2.3-py3-none-any.whl (57 kB)\n",
      "\u001b[2K   \u001b[90m━━━━━━━━━━━━━━━━━━━━━━━━━━━━━━━━━━━━━━━━\u001b[0m \u001b[32m57.5/57.5 kB\u001b[0m \u001b[31m6.2 MB/s\u001b[0m eta \u001b[36m0:00:00\u001b[0m\n",
      "\u001b[?25hDownloading pyaml-24.4.0-py3-none-any.whl (24 kB)\n",
      "Installing collected packages: pyaml, protobuf, cattrs, coremltools\n",
      "  Attempting uninstall: protobuf\n",
      "    Found existing installation: protobuf 4.25.3\n",
      "    Uninstalling protobuf-4.25.3:\n",
      "      Successfully uninstalled protobuf-4.25.3\n",
      "Successfully installed cattrs-23.2.3 coremltools-7.2 protobuf-3.20.3 pyaml-24.4.0\n"
     ]
    }
   ],
   "source": [
    "!pip install coremltools"
   ]
  },
  {
   "cell_type": "code",
   "execution_count": 2,
   "metadata": {},
   "outputs": [],
   "source": [
    "# Set parameters\n",
    "img_size = 224\n",
    "loaded_model = 'face_recognition_mobilenet.h5'\n",
    "final_model = 'face_recognition_mobilenet.mlmodel'"
   ]
  },
  {
   "cell_type": "code",
   "execution_count": null,
   "metadata": {},
   "outputs": [],
   "source": [
    "import coremltools as ct\n",
    "from tensorflow.keras.models import load_model\n",
    "\n",
    "# Load the trained Keras model\n",
    "keras_model = load_model(loaded_model)\n",
    "\n",
    "# Convert the model to Core ML\n",
    "mlmodel = ct.convert(keras_model, inputs=[ct.ImageType(shape=(1, img_size, img_size, 3))])\n",
    "\n",
    "# Save the Core ML model\n",
    "mlmodel.save(final_model)\n"
   ]
  }
 ],
 "metadata": {
  "kernelspec": {
   "display_name": "base",
   "language": "python",
   "name": "python3"
  },
  "language_info": {
   "codemirror_mode": {
    "name": "ipython",
    "version": 3
   },
   "file_extension": ".py",
   "mimetype": "text/x-python",
   "name": "python",
   "nbconvert_exporter": "python",
   "pygments_lexer": "ipython3",
   "version": "3.11.8"
  }
 },
 "nbformat": 4,
 "nbformat_minor": 2
}
